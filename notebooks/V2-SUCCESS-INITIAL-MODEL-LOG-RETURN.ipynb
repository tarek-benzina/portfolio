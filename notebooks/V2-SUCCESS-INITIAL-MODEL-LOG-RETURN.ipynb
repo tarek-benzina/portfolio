{
 "cells": [
  {
   "cell_type": "code",
   "execution_count": 1,
   "id": "dd256846-7526-4b8d-9fb0-e8e4e3abf1e7",
   "metadata": {
    "tags": []
   },
   "outputs": [],
   "source": [
    "%load_ext autoreload\n",
    "%autoreload 2"
   ]
  },
  {
   "cell_type": "code",
   "execution_count": 2,
   "id": "6a8694be-0ebd-4754-aac4-818a454df2a5",
   "metadata": {
    "tags": []
   },
   "outputs": [],
   "source": [
    "import IPython\n",
    "import IPython.display\n",
    "import matplotlib as mpl\n",
    "import matplotlib.pyplot as plt\n",
    "import tensorflow as tf\n",
    "import pandas as pd\n",
    "import numpy as np\n",
    "import pandas as pd\n",
    "from src.misc_utils import *\n",
    "from src.model_utils import *\n",
    "from src.sequence_utils import *\n",
    "from src.data import update\n",
    "from src.portfolio import *\n",
    "from yahooquery import Ticker\n",
    "from datetime import datetime,timedelta\n",
    "import sqlite3"
   ]
  },
  {
   "cell_type": "code",
   "execution_count": 3,
   "id": "e2cf3d5c-75dc-4f77-8dab-be07ed799b6c",
   "metadata": {
    "tags": []
   },
   "outputs": [],
   "source": [
    "DATA_DIR=\"/home/notebooks/\"\n",
    "MODELS_DIR=\"/home/notebooks/\"\n",
    "DB_PATH=\"/home/stock_db\"\n",
    "HORIZON=7\n",
    "PRICE_COLUMN=\"Close\"\n",
    "LOOKBACK=365*2 ##two years \n",
    "HISTORY=14\n",
    "FORECAST_STEPS=1\n",
    "FUTURE=0\n",
    "TARGET=f\"log_return_{HORIZON}\""
   ]
  },
  {
   "cell_type": "code",
   "execution_count": 4,
   "id": "f527df5c-21ec-416c-a533-0744fe87ec42",
   "metadata": {},
   "outputs": [],
   "source": [
    "conn=create_connection(DB_PATH)"
   ]
  },
  {
   "cell_type": "code",
   "execution_count": 5,
   "id": "af789a1c-a7b2-4778-93fc-f7d20f419277",
   "metadata": {},
   "outputs": [],
   "source": [
    "today=datetime.today().strftime(\"%Y-%m-%d\")"
   ]
  },
  {
   "cell_type": "code",
   "execution_count": 6,
   "id": "802dcded-9e04-4e24-87f3-ba2b4ab0960b",
   "metadata": {},
   "outputs": [],
   "source": [
    "initial_date=(datetime.today()-timedelta(days=LOOKBACK)).strftime(\"%Y-%m-%d\")"
   ]
  },
  {
   "cell_type": "code",
   "execution_count": 7,
   "id": "02c9f5f8-c64e-496e-81be-bcb131583761",
   "metadata": {},
   "outputs": [],
   "source": [
    "update(conn=conn)"
   ]
  },
  {
   "cell_type": "code",
   "execution_count": 8,
   "id": "b5c685ce-b2ca-4472-a9dd-1e96619eb583",
   "metadata": {},
   "outputs": [],
   "source": [
    "data=pd.read_sql(f\"SELECT * FROM stock_price WHERE date>='{initial_date} 00:00:00'\",con=conn)\n",
    "data=data.groupby([\"ticker\",\"date\"],as_index=False).mean()\n",
    "profile=pd.read_sql(f\"SELECT ticker,industry FROM profile\",con=conn)\n",
    "data=data.merge(profile,on=\"ticker\",how=\"left\")\n",
    "data=data[[\"date\",\"ticker\",\"industry\",\"Close\"]]\n",
    "data[\"date\"]=pd.to_datetime(data[\"date\"])"
   ]
  },
  {
   "cell_type": "code",
   "execution_count": 9,
   "id": "beeb8725-443d-43ff-8119-2819d125fbb8",
   "metadata": {
    "tags": []
   },
   "outputs": [],
   "source": [
    "start_date=data.date.min()\n",
    "end_date=data.date.max()\n"
   ]
  },
  {
   "cell_type": "code",
   "execution_count": 10,
   "id": "6600e70b-0ca5-4bf0-bf2e-1d56362a53d1",
   "metadata": {
    "tags": []
   },
   "outputs": [],
   "source": [
    "calendar=build_calendar(start_date=start_date,end_date=end_date,forecast_horizon=5*HORIZON,forecast_steps=FORECAST_STEPS)\n",
    "calendar=get_train_val_test(calendar=calendar,end_date=end_date,horizon=HORIZON,test_ratio=.1,val_ratio=.0)\n",
    "grid=build_grid(data,calendar)\n",
    "data=data.merge(grid,on=[\"date\",\"ticker\"],how=\"right\")"
   ]
  },
  {
   "cell_type": "code",
   "execution_count": 12,
   "id": "39f10615-c430-4797-9dcf-60818de8ba92",
   "metadata": {},
   "outputs": [],
   "source": [
    "return_cols=[]\n",
    "if HORIZON>1:\n",
    "    for i in range(1,HORIZON+1):\n",
    "        data=shift(data,lag=i,column=PRICE_COLUMN)\n",
    "        return_cols.append(f\"log_return_{i}_shift_-{i}\")\n",
    "        data[f\"log_return_{i}\"]=np.log(data[f\"{PRICE_COLUMN}_shift_{i}\"]/data[PRICE_COLUMN])\n",
    "        data=shift(data,lag=-i,column=f\"log_return_{i}\")"
   ]
  },
  {
   "cell_type": "code",
   "execution_count": 14,
   "id": "c6114f29-64da-4836-ab62-acda8a9c4eeb",
   "metadata": {},
   "outputs": [],
   "source": [
    "norm=Normaliser()"
   ]
  },
  {
   "cell_type": "code",
   "execution_count": 15,
   "id": "a55945c9-1948-4f77-9c60-5551cf58a610",
   "metadata": {},
   "outputs": [],
   "source": [
    "norm.build(target=\"Close\",timeseries_id_column=\"ticker\")"
   ]
  },
  {
   "cell_type": "code",
   "execution_count": 16,
   "id": "2c78e922-6d06-4f6e-aa25-b1d91503aede",
   "metadata": {},
   "outputs": [],
   "source": [
    "norm.fit(data[data.train==1])"
   ]
  },
  {
   "cell_type": "code",
   "execution_count": 17,
   "id": "988f42dd-821e-4876-8ca3-f9bb967e219c",
   "metadata": {},
   "outputs": [],
   "source": [
    "norm.save(f\"normaliser\")"
   ]
  },
  {
   "cell_type": "code",
   "execution_count": 18,
   "id": "55a59650-d87d-4651-9668-ba546b81b98e",
   "metadata": {},
   "outputs": [],
   "source": [
    "norm=Normaliser()\n",
    "norm.load(\"normaliser\")"
   ]
  },
  {
   "cell_type": "code",
   "execution_count": 19,
   "id": "c049ebc5-1264-4e40-a3ce-157002e6b002",
   "metadata": {},
   "outputs": [],
   "source": [
    "data=norm.normalise(data)"
   ]
  },
  {
   "cell_type": "code",
   "execution_count": 20,
   "id": "96a11357-0179-45f5-b088-3ec2c3b61d55",
   "metadata": {
    "tags": []
   },
   "outputs": [],
   "source": [
    "num_features=[\"Close_scaled\",\n",
    "]+return_cols"
   ]
  },
  {
   "cell_type": "code",
   "execution_count": 21,
   "id": "d723f5ad-0cab-4669-8e32-4788c1a7a53b",
   "metadata": {
    "tags": []
   },
   "outputs": [],
   "source": [
    "initial_available_date=data[~data[TARGET].isnull()].date.min()"
   ]
  },
  {
   "cell_type": "code",
   "execution_count": 27,
   "id": "e6fbd6ad-060f-4593-a476-726205ec500d",
   "metadata": {},
   "outputs": [],
   "source": [
    "enc=Encoder()"
   ]
  },
  {
   "cell_type": "code",
   "execution_count": 28,
   "id": "d9726751-93d6-46c6-beab-6d77cea6935a",
   "metadata": {},
   "outputs": [],
   "source": [
    "enc.build(categoricals=[\n",
    "    \"industry\",\n",
    "     \"woy\",\n",
    "    \"dow\"\n",
    "])"
   ]
  },
  {
   "cell_type": "code",
   "execution_count": 29,
   "id": "7d4d85df-9d63-4b9f-8bc1-6334b0665f37",
   "metadata": {
    "tags": []
   },
   "outputs": [],
   "source": [
    "enc.fit(data[data.train==1])"
   ]
  },
  {
   "cell_type": "code",
   "execution_count": 30,
   "id": "79475100-d660-4f83-9ab0-d97925d4e272",
   "metadata": {},
   "outputs": [],
   "source": [
    "enc.save(f\"encoder\")"
   ]
  },
  {
   "cell_type": "code",
   "execution_count": 31,
   "id": "9ed13332-b5e0-4a0d-bee2-ceb214233a62",
   "metadata": {},
   "outputs": [],
   "source": [
    "enc=Encoder()\n",
    "enc.load(f\"encoder\")"
   ]
  },
  {
   "cell_type": "code",
   "execution_count": 32,
   "id": "cc45b331-b5b0-41c3-8f72-b763ea6dc66e",
   "metadata": {
    "tags": []
   },
   "outputs": [],
   "source": [
    "features=enc.get_encoded_features()"
   ]
  },
  {
   "cell_type": "code",
   "execution_count": 33,
   "id": "dc689542-faf3-48b9-9a13-821203267258",
   "metadata": {
    "tags": []
   },
   "outputs": [],
   "source": [
    "features=features+num_features"
   ]
  },
  {
   "cell_type": "code",
   "execution_count": 34,
   "id": "bce474ff-184a-4438-a5fa-dbd678776b73",
   "metadata": {
    "tags": []
   },
   "outputs": [],
   "source": [
    "data=enc.apply(data)"
   ]
  },
  {
   "cell_type": "code",
   "execution_count": 35,
   "id": "8a83a33f-7fc8-4b7e-ac38-ef20ee61a7c4",
   "metadata": {
    "tags": []
   },
   "outputs": [],
   "source": [
    "inference_date=data[(data.weekend==0)&(data.holiday==\"no_holiday\")&(data.date>data[~data[TARGET].isnull()][f\"lag_date_Close_{HORIZON}\"].max())].date.min()"
   ]
  },
  {
   "cell_type": "code",
   "execution_count": 36,
   "id": "0b76798d-259d-4e1a-8a65-b4cea9d8df3e",
   "metadata": {
    "tags": []
   },
   "outputs": [],
   "source": [
    "sequencer=TimeseriesSquencer(\n",
    "    features=features,\n",
    "    target=TARGET,\n",
    "    history=HISTORY,\n",
    "    future=FUTURE,\n",
    "    steps=FORECAST_STEPS,\n",
    "    id_column=\"ticker\",\n",
    "    time_column=\"date\",\n",
    "    data_end_date=inference_date.strftime(\"%Y-%m-%d\"),\n",
    "    include_target_feature=False,\n",
    "    extra_id_columns=[])"
   ]
  },
  {
   "cell_type": "code",
   "execution_count": 37,
   "id": "1cd915e0-050a-4442-8d49-074a87d917be",
   "metadata": {
    "tags": []
   },
   "outputs": [],
   "source": [
    "train_dict=sequencer.sequence_timeseries(data[data.train==1].dropna())"
   ]
  },
  {
   "cell_type": "code",
   "execution_count": 38,
   "id": "64b358bb-ec6b-49bb-968f-d79ba66a401a",
   "metadata": {
    "tags": []
   },
   "outputs": [],
   "source": [
    "#val_dict=sequencer.sequence_timeseries(data[data.val==1].dropna())"
   ]
  },
  {
   "cell_type": "code",
   "execution_count": 39,
   "id": "40c7be19-7287-4147-9ed5-508915d7f10c",
   "metadata": {
    "tags": []
   },
   "outputs": [],
   "source": [
    "test_dict=sequencer.sequence_timeseries(data[data.test==1].dropna())"
   ]
  },
  {
   "cell_type": "code",
   "execution_count": 40,
   "id": "f9ec7180-507c-4f6d-b7d6-977dcb50934d",
   "metadata": {
    "tags": []
   },
   "outputs": [],
   "source": [
    "early_stopping = tf.keras.callbacks.EarlyStopping(monitor='val_root_mean_squared_error',\n",
    "                                                patience=10,\n",
    "                                                  restore_best_weights=True,\n",
    "                                                mode='min') "
   ]
  },
  {
   "cell_type": "code",
   "execution_count": 41,
   "id": "69154168-d613-4b74-ba76-4cb7ffb966d5",
   "metadata": {
    "tags": []
   },
   "outputs": [],
   "source": [
    "def same_sign(y_true,y_pred):\n",
    "    return tf.reduce_sum(tf.abs(tf.cast(tf.sign(y_true),dtype=tf.float64)+tf.cast(tf.sign(y_pred),dtype=tf.float64))/2)/tf.reduce_sum(tf.abs(tf.cast(tf.sign(y_true),dtype=tf.float64)))"
   ]
  },
  {
   "cell_type": "code",
   "execution_count": 42,
   "id": "0906ad06-d805-46a2-9e3a-08ba55ce2c23",
   "metadata": {
    "tags": []
   },
   "outputs": [],
   "source": [
    "model = tf.keras.Sequential()\n",
    "model.add(tf.keras.layers.LSTM(128,use_bias=False,return_sequences=True,kernel_initializer=tf.keras.initializers.he_normal(),activation=\"relu\",kernel_regularizer=tf.keras.regularizers.L1(.0)))\n",
    "model.add(tf.keras.layers.LSTM(64,use_bias=False,return_sequences=True,kernel_initializer=tf.keras.initializers.he_normal(),activation=\"relu\",kernel_regularizer=tf.keras.regularizers.L1(.0)))\n",
    "model.add(tf.keras.layers.LSTM(32,use_bias=False,return_sequences=True,kernel_initializer=tf.keras.initializers.he_normal(),activation=\"relu\",kernel_regularizer=tf.keras.regularizers.L1(.0)))\n",
    "model.add(tf.keras.layers.LSTM(16,use_bias=False,return_sequences=True,kernel_initializer=tf.keras.initializers.he_normal(),activation=\"relu\",kernel_regularizer=tf.keras.regularizers.L1(.0)))\n",
    "#model.add(tf.keras.layers.LSTM(8,use_bias=False,return_sequences=True,kernel_initializer=tf.keras.initializers.he_normal(),activation=\"relu\",kernel_regularizer=tf.keras.regularizers.L1(.0)))\n",
    "\n",
    "model.add(tf.keras.layers.GRU(5))\n",
    "#model.add(tf.keras.layers.LSTM(20,use_bias=False,return_sequences=True,kernel_initializer=tf.keras.initializers.glorot_normal()))\n",
    "#model.add(tf.keras.layers.LSTM(10,use_bias=False,kernel_initializer=tf.keras.initializers.glorot_normal()))\n",
    "\n",
    "model.add(tf.keras.layers.Dense(units=FORECAST_STEPS,use_bias=True,kernel_initializer=tf.keras.initializers.glorot_normal(),kernel_regularizer=tf.keras.regularizers.L1(.0)))\n"
   ]
  },
  {
   "cell_type": "code",
   "execution_count": 43,
   "id": "714262b4-0eb5-40a3-82df-d39b1f21b618",
   "metadata": {
    "tags": []
   },
   "outputs": [],
   "source": [
    "model.compile(optimizer=tf.keras.optimizers.RMSprop(learning_rate=0.00001), loss=tf.keras.losses.MeanSquaredError(),metrics=[tf.keras.metrics.RootMeanSquaredError(),same_sign])"
   ]
  },
  {
   "cell_type": "code",
   "execution_count": null,
   "id": "3784200f-486a-451d-a0be-8efff7bbe9ae",
   "metadata": {
    "scrolled": true,
    "tags": []
   },
   "outputs": [
    {
     "name": "stdout",
     "output_type": "stream",
     "text": [
      "Epoch 1/1000\n",
      "1787/1787 [==============================] - 97s 52ms/step - loss: 0.0035 - root_mean_squared_error: 0.0589 - same_sign: 0.5686 - val_loss: 0.0043 - val_root_mean_squared_error: 0.0659 - val_same_sign: 0.5813\n",
      "Epoch 2/1000\n",
      "1787/1787 [==============================] - 93s 52ms/step - loss: 0.0032 - root_mean_squared_error: 0.0568 - same_sign: 0.6273 - val_loss: 0.0042 - val_root_mean_squared_error: 0.0646 - val_same_sign: 0.6111\n",
      "Epoch 3/1000\n",
      "1787/1787 [==============================] - 93s 52ms/step - loss: 0.0031 - root_mean_squared_error: 0.0553 - same_sign: 0.6495 - val_loss: 0.0041 - val_root_mean_squared_error: 0.0637 - val_same_sign: 0.6270\n",
      "Epoch 4/1000\n",
      "1787/1787 [==============================] - 93s 52ms/step - loss: 0.0030 - root_mean_squared_error: 0.0544 - same_sign: 0.6583 - val_loss: 0.0040 - val_root_mean_squared_error: 0.0633 - val_same_sign: 0.6307\n",
      "Epoch 5/1000\n",
      "1787/1787 [==============================] - 93s 52ms/step - loss: 0.0029 - root_mean_squared_error: 0.0537 - same_sign: 0.6635 - val_loss: 0.0040 - val_root_mean_squared_error: 0.0630 - val_same_sign: 0.6337\n",
      "Epoch 6/1000\n",
      "1787/1787 [==============================] - 93s 52ms/step - loss: 0.0028 - root_mean_squared_error: 0.0531 - same_sign: 0.6666 - val_loss: 0.0039 - val_root_mean_squared_error: 0.0628 - val_same_sign: 0.6374\n",
      "Epoch 7/1000\n",
      "1787/1787 [==============================] - 94s 53ms/step - loss: 0.0028 - root_mean_squared_error: 0.0526 - same_sign: 0.6708 - val_loss: 0.0039 - val_root_mean_squared_error: 0.0628 - val_same_sign: 0.6397\n",
      "Epoch 8/1000\n",
      "1787/1787 [==============================] - 93s 52ms/step - loss: 0.0027 - root_mean_squared_error: 0.0522 - same_sign: 0.6736 - val_loss: 0.0039 - val_root_mean_squared_error: 0.0626 - val_same_sign: 0.6406\n",
      "Epoch 9/1000\n",
      "1787/1787 [==============================] - 93s 52ms/step - loss: 0.0027 - root_mean_squared_error: 0.0518 - same_sign: 0.6775 - val_loss: 0.0039 - val_root_mean_squared_error: 0.0625 - val_same_sign: 0.6439\n",
      "Epoch 10/1000\n",
      "1787/1787 [==============================] - 93s 52ms/step - loss: 0.0026 - root_mean_squared_error: 0.0514 - same_sign: 0.6806 - val_loss: 0.0039 - val_root_mean_squared_error: 0.0625 - val_same_sign: 0.6444\n",
      "Epoch 11/1000\n",
      "1787/1787 [==============================] - 98s 55ms/step - loss: 0.0026 - root_mean_squared_error: 0.0510 - same_sign: 0.6828 - val_loss: 0.0039 - val_root_mean_squared_error: 0.0624 - val_same_sign: 0.6448\n",
      "Epoch 12/1000\n",
      "1787/1787 [==============================] - 107s 60ms/step - loss: 0.0026 - root_mean_squared_error: 0.0507 - same_sign: 0.6856 - val_loss: 0.0039 - val_root_mean_squared_error: 0.0626 - val_same_sign: 0.6444\n",
      "Epoch 13/1000\n",
      "1787/1787 [==============================] - 101s 57ms/step - loss: 0.0025 - root_mean_squared_error: 0.0504 - same_sign: 0.6892 - val_loss: 0.0039 - val_root_mean_squared_error: 0.0627 - val_same_sign: 0.6445\n",
      "Epoch 14/1000\n",
      "1787/1787 [==============================] - 104s 58ms/step - loss: 0.0025 - root_mean_squared_error: 0.0501 - same_sign: 0.6910 - val_loss: 0.0039 - val_root_mean_squared_error: 0.0626 - val_same_sign: 0.6448\n",
      "Epoch 15/1000\n",
      "1787/1787 [==============================] - 104s 58ms/step - loss: 0.0025 - root_mean_squared_error: 0.0498 - same_sign: 0.6922 - val_loss: 0.0039 - val_root_mean_squared_error: 0.0626 - val_same_sign: 0.6464\n",
      "Epoch 16/1000\n",
      "1787/1787 [==============================] - 101s 57ms/step - loss: 0.0025 - root_mean_squared_error: 0.0496 - same_sign: 0.6939 - val_loss: 0.0039 - val_root_mean_squared_error: 0.0625 - val_same_sign: 0.6468\n",
      "Epoch 17/1000\n",
      "1787/1787 [==============================] - 102s 57ms/step - loss: 0.0024 - root_mean_squared_error: 0.0493 - same_sign: 0.6964 - val_loss: 0.0039 - val_root_mean_squared_error: 0.0627 - val_same_sign: 0.6467\n",
      "Epoch 18/1000\n",
      "1787/1787 [==============================] - 102s 57ms/step - loss: 0.0024 - root_mean_squared_error: 0.0491 - same_sign: 0.6985 - val_loss: 0.0039 - val_root_mean_squared_error: 0.0627 - val_same_sign: 0.6485\n",
      "Epoch 19/1000\n",
      "1787/1787 [==============================] - 100s 56ms/step - loss: 0.0024 - root_mean_squared_error: 0.0488 - same_sign: 0.7003 - val_loss: 0.0039 - val_root_mean_squared_error: 0.0628 - val_same_sign: 0.6477\n",
      "Epoch 20/1000\n",
      "1787/1787 [==============================] - 98s 55ms/step - loss: 0.0024 - root_mean_squared_error: 0.0486 - same_sign: 0.7017 - val_loss: 0.0039 - val_root_mean_squared_error: 0.0628 - val_same_sign: 0.6470\n",
      "Epoch 21/1000\n",
      " 282/1787 [===>..........................] - ETA: 1:19 - loss: 0.0023 - root_mean_squared_error: 0.0479 - same_sign: 0.7057"
     ]
    }
   ],
   "source": [
    "history=model.fit(\n",
    "    train_dict[\"X\"],\n",
    "    train_dict[\"Y\"],\n",
    "    validation_split=.2,\n",
    "    #validation_data=(train_dict[\"X\"], train_dict[\"Y\"]),\n",
    "    epochs=1000,\n",
    "    batch_size=30,\n",
    "    verbose=1,\n",
    "    callbacks=[early_stopping]) ##0.0554"
   ]
  },
  {
   "cell_type": "code",
   "execution_count": 53,
   "id": "f4b0213e-59d2-4088-826f-0e99ce06e819",
   "metadata": {},
   "outputs": [],
   "source": [
    "import datetime "
   ]
  },
  {
   "cell_type": "code",
   "execution_count": 41,
   "id": "9f1efba8-b9ce-410e-9a9d-6634c09fc8a6",
   "metadata": {},
   "outputs": [
    {
     "name": "stderr",
     "output_type": "stream",
     "text": [
      "WARNING:absl:Found untraced functions such as gru_cell_layer_call_fn, gru_cell_layer_call_and_return_conditional_losses while saving (showing 2 of 2). These functions will not be directly callable after loading.\n"
     ]
    },
    {
     "name": "stdout",
     "output_type": "stream",
     "text": [
      "INFO:tensorflow:Assets written to: model-2023-06-07/assets\n"
     ]
    },
    {
     "name": "stderr",
     "output_type": "stream",
     "text": [
      "INFO:tensorflow:Assets written to: model-2023-06-07/assets\n"
     ]
    }
   ],
   "source": [
    "model.save(f\"model-{inference_date.strftime('%Y-%m-%d')}\")"
   ]
  },
  {
   "cell_type": "code",
   "execution_count": 39,
   "id": "fb7df807-4b6e-49a8-bbac-aa71b288d55e",
   "metadata": {
    "tags": []
   },
   "outputs": [
    {
     "name": "stderr",
     "output_type": "stream",
     "text": [
      "2023-06-07 09:42:54.855557: W tensorflow/core/framework/cpu_allocator_impl.cc:82] Allocation of 235829160 exceeds 10% of free system memory.\n"
     ]
    },
    {
     "name": "stdout",
     "output_type": "stream",
     "text": [
      "908/908 [==============================] - 13s 14ms/step - loss: 0.0027 - root_mean_squared_error: 0.0516 - same_sign: 0.5415\n"
     ]
    },
    {
     "data": {
      "text/plain": [
       "[0.0026618381962180138, 0.051593005657196045, 0.5415298342704773]"
      ]
     },
     "execution_count": 39,
     "metadata": {},
     "output_type": "execute_result"
    }
   ],
   "source": [
    "model.evaluate(test_dict[\"X\"], test_dict[\"Y\"])#[0.0017741959309205413, 0.04212120547890663, 0.5632179379463196]"
   ]
  },
  {
   "cell_type": "code",
   "execution_count": 36,
   "id": "f9f04edf-a061-41e9-ac07-eac9daee832f",
   "metadata": {
    "tags": []
   },
   "outputs": [],
   "source": [
    "tmp=data[(data.working_day==1)].copy()"
   ]
  },
  {
   "cell_type": "code",
   "execution_count": null,
   "id": "93986b3a-50dd-4b9b-b99c-1613ce3451be",
   "metadata": {
    "tags": []
   },
   "outputs": [],
   "source": [
    "data_dict=sequencer.sequence_timeseries(tmp)"
   ]
  },
  {
   "cell_type": "code",
   "execution_count": 55,
   "id": "fb4bd7c9-b26f-4132-8bcd-356d51478aa5",
   "metadata": {
    "tags": []
   },
   "outputs": [
    {
     "name": "stdout",
     "output_type": "stream",
     "text": [
      "1038/1038 [==============================] - 13s 12ms/step\n"
     ]
    }
   ],
   "source": [
    "result=get_predictions(model,tmp,data_dict,steps=[0])"
   ]
  },
  {
   "cell_type": "code",
   "execution_count": 56,
   "id": "e8086c74-7f5d-48c1-be33-6e03398052bd",
   "metadata": {},
   "outputs": [],
   "source": [
    "rmse = lambda x,y:np.sqrt(np.mean((x-y)**2))"
   ]
  },
  {
   "cell_type": "code",
   "execution_count": 57,
   "id": "20f5dde3-87c7-4b04-ae0b-ecd6de60b650",
   "metadata": {},
   "outputs": [],
   "source": [
    "rmse_quality=result.dropna().groupby(\"ticker\")[[TARGET,\"pred_step_0\"]].apply(lambda x: rmse(x.tail(30)[TARGET],x.tail(30)[\"pred_step_0\"])).sort_values()"
   ]
  },
  {
   "cell_type": "code",
   "execution_count": 58,
   "id": "5d0a7cf2-8056-4133-8593-ea61745edbb2",
   "metadata": {},
   "outputs": [
    {
     "data": {
      "text/plain": [
       "<AxesSubplot: xlabel='ticker'>"
      ]
     },
     "execution_count": 58,
     "metadata": {},
     "output_type": "execute_result"
    },
    {
     "data": {
      "image/png": "[encoded data removed]",
      "text/plain": [
       "<Figure size 2000x1000 with 1 Axes>"
      ]
     },
     "metadata": {},
     "output_type": "display_data"
    }
   ],
   "source": [
    "rmse_quality.plot.bar(figsize=(20,10))"
   ]
  },
  {
   "cell_type": "code",
   "execution_count": 59,
   "id": "4f6dff96-5605-4af5-a956-dee94ceb3f58",
   "metadata": {},
   "outputs": [],
   "source": [
    "result[\"zero\"]=0"
   ]
  },
  {
   "cell_type": "code",
   "execution_count": 60,
   "id": "1c414f90-6639-42ca-82ff-2517e67810fa",
   "metadata": {},
   "outputs": [
    {
     "data": {
      "text/plain": [
       "<AxesSubplot: >"
      ]
     },
     "execution_count": 60,
     "metadata": {},
     "output_type": "execute_result"
    },
    {
     "data": {
      "image/png": "[encoded data removed]",
      "text/plain": [
       "<Figure size 640x480 with 1 Axes>"
      ]
     },
     "metadata": {},
     "output_type": "display_data"
    }
   ],
   "source": [
    "result.pred_step_0.hist(bins=40)"
   ]
  },
  {
   "cell_type": "code",
   "execution_count": 61,
   "id": "f603798b-a7d1-4eae-b217-6a2cfe8b63c6",
   "metadata": {},
   "outputs": [
    {
     "data": {
      "text/plain": [
       "<AxesSubplot: >"
      ]
     },
     "execution_count": 61,
     "metadata": {},
     "output_type": "execute_result"
    },
    {
     "data": {
      "image/png": "[encoded data removed]",
      "text/plain": [
       "<Figure size 640x480 with 1 Axes>"
      ]
     },
     "metadata": {},
     "output_type": "display_data"
    }
   ],
   "source": [
    "result.log_return_7.hist(bins=40)"
   ]
  },
  {
   "cell_type": "code",
   "execution_count": 63,
   "id": "15d1eeaa-825c-4789-869f-e26da2150567",
   "metadata": {
    "tags": []
   },
   "outputs": [
    {
     "data": {
      "text/plain": [
       "<AxesSubplot: xlabel='date'>"
      ]
     },
     "execution_count": 63,
     "metadata": {},
     "output_type": "execute_result"
    },
    {
     "data": {
      "image/png": "[encoded data removed]",
      "text/plain": [
       "<Figure size 2000x1000 with 1 Axes>"
      ]
     },
     "metadata": {},
     "output_type": "display_data"
    }
   ],
   "source": [
    "result[(result.test==1)&(result.ticker==\"AAPL\")].plot(x=\"date\",y=[\"zero\",\"pred_step_0\",TARGET],figsize=(20,10))"
   ]
  },
  {
   "cell_type": "code",
   "execution_count": 64,
   "id": "1334114f-1662-4b91-8d5a-2d581ef8e30e",
   "metadata": {
    "tags": []
   },
   "outputs": [],
   "source": [
    "date=\"2023-05-30\"\n",
    "RISK_LEVEL=0.01"
   ]
  },
  {
   "cell_type": "code",
   "execution_count": 65,
   "id": "060a3bb5-44bf-4535-901e-e84f9229c79d",
   "metadata": {
    "tags": []
   },
   "outputs": [],
   "source": [
    "MIN_BUDGET=50\n",
    "MAX_BUDGET=500"
   ]
  },
  {
   "cell_type": "code",
   "execution_count": 66,
   "id": "16f2c155-b43e-4626-b4f7-53fc3b90b931",
   "metadata": {
    "tags": []
   },
   "outputs": [],
   "source": [
    "## PREDICTED CLOSE FOR NEXT TRADING DAY\n",
    "result=shift(result,lag=-1,column=\"Close\")"
   ]
  },
  {
   "cell_type": "code",
   "execution_count": 67,
   "id": "955fbc2d-98c4-43ab-81e3-a39c68cbe546",
   "metadata": {
    "tags": []
   },
   "outputs": [],
   "source": [
    "expected_price=\"Close_shift_-1\""
   ]
  },
  {
   "cell_type": "code",
   "execution_count": 68,
   "id": "340074a0-fd1e-4173-a410-521ccf86cea7",
   "metadata": {
    "tags": []
   },
   "outputs": [],
   "source": [
    "import datetime\n",
    "today=datetime.datetime.today()"
   ]
  },
  {
   "cell_type": "code",
   "execution_count": 69,
   "id": "35d35512-873f-4f5d-82cc-5d408baedebb",
   "metadata": {
    "tags": []
   },
   "outputs": [],
   "source": [
    "#result=result[result.date<=today]"
   ]
  },
  {
   "cell_type": "code",
   "execution_count": 70,
   "id": "cc6884cc-92af-4f58-adbc-ae84f1d5234b",
   "metadata": {},
   "outputs": [],
   "source": [
    "tickers=result.ticker.unique()"
   ]
  },
  {
   "cell_type": "code",
   "execution_count": 80,
   "id": "45093a16-8890-4d8f-a054-af0a527762a3",
   "metadata": {
    "tags": []
   },
   "outputs": [],
   "source": [
    "MIN_BUDGET=0\n",
    "MAX_BUDGET=1000\n",
    "CNT_EXPERIMENTS=10"
   ]
  },
  {
   "cell_type": "code",
   "execution_count": 81,
   "id": "bd218eab-9c31-410f-ad9a-2433c0bd5bea",
   "metadata": {
    "scrolled": true,
    "tags": []
   },
   "outputs": [
    {
     "name": "stdout",
     "output_type": "stream",
     "text": [
      "2023-05-11 00:00:00+00:00\n",
      "Dropping the following ticker []\n",
      "0.0797503658164393\n",
      "2023-05-12 00:00:00+00:00\n",
      "Dropping the following ticker []\n",
      "0.052749339899166144\n",
      "2023-05-15 00:00:00+00:00\n",
      "Dropping the following ticker []\n",
      "0.04863341009543696\n",
      "2023-05-16 00:00:00+00:00\n",
      "Dropping the following ticker []\n",
      "0.014126422675066025\n",
      "2023-05-17 00:00:00+00:00\n",
      "Dropping the following ticker []\n",
      "0.0393513467265035\n",
      "2023-05-18 00:00:00+00:00\n",
      "Dropping the following ticker []\n",
      "0.029924931062267717\n",
      "2023-05-19 00:00:00+00:00\n",
      "Dropping the following ticker []\n",
      "0.03653626053260678\n",
      "2023-05-22 00:00:00+00:00\n",
      "Dropping the following ticker []\n",
      "0.04140328319589035\n",
      "2023-05-23 00:00:00+00:00\n",
      "Dropping the following ticker []\n",
      "0.05539982126150652\n",
      "2023-05-24 00:00:00+00:00\n",
      "Dropping the following ticker []\n",
      "-inf\n"
     ]
    },
    {
     "name": "stderr",
     "output_type": "stream",
     "text": [
      "/home/notebooks/src/portfolio.py:18: RuntimeWarning: divide by zero encountered in log\n",
      "  portfolio_log_return = np.log(np.sum(tmp['weight'] * np.exp(tmp[log_return_column])))\n"
     ]
    }
   ],
   "source": [
    "dates=[]\n",
    "investments=[]\n",
    "value_at_risk=[]\n",
    "predicted_returns=[]\n",
    "actual_returns=[]\n",
    "maturity_date=[]\n",
    "for date in result[result.date<=inference_date].date.unique()[-HORIZON-CNT_EXPERIMENTS:-HORIZON]:\n",
    "    print(date)\n",
    "    res,opt_tickers=optimise(prediction_results=result,\n",
    "                 date=date,\n",
    "                 min_budget=MIN_BUDGET,\n",
    "                 max_budget=MAX_BUDGET,\n",
    "                 tickers=tickers,\n",
    "                 max_value_at_risk=10,\n",
    "                 log_return_column=TARGET,\n",
    "                 predicted_log_return_column=\"pred_step_0\",\n",
    "                 expected_price_column='Close_shift_-1',diversity=.99)\n",
    "    dates.append(date)\n",
    "    maturity_date.append(result[result.date==date][\"lag_date_Close_7\"].unique()[0])\n",
    "    investments.append(investment(opt_tickers,res,result,price_column=PRICE_COLUMN,buy_date=date))\n",
    "    investment(opt_tickers,res,result,price_column=PRICE_COLUMN,buy_date=date)\n",
    "    value_at_risk.append(compute_value_at_risk(data=result,tickers=opt_tickers, \n",
    "                                                shares=res, buy_date=date, price_column='Close_shift_-1', \n",
    "                                                                                   log_return_column=TARGET,\n",
    "                                                                                   confidence_level=0.99))\n",
    "    predicted_returns.append(portfolio_buy_date_return(tickers=opt_tickers,shares=res,stock_log_return=result,buy_date=date,price_column='Close_shift_-1',log_return_column=\"pred_step_0\"))\n",
    "    actual_ret=portfolio_buy_date_return(tickers=opt_tickers,shares=res,stock_log_return=result,buy_date=date,price_column=PRICE_COLUMN,log_return_column=TARGET)\n",
    "    print(actual_ret)\n",
    "    actual_returns.append(actual_ret)\n",
    "    \n",
    "    "
   ]
  },
  {
   "cell_type": "code",
   "execution_count": 82,
   "id": "60e2dc4f-e689-4428-ab5c-7e274aea98eb",
   "metadata": {
    "tags": []
   },
   "outputs": [],
   "source": [
    "opt=pd.DataFrame()"
   ]
  },
  {
   "cell_type": "code",
   "execution_count": 83,
   "id": "6991bc04-ad30-4b99-9c64-9629ec1d5d80",
   "metadata": {
    "tags": []
   },
   "outputs": [],
   "source": [
    "opt[\"date\"]=dates\n",
    "opt[\"maturity_date\"]=maturity_date\n",
    "opt[\"investments\"]=investments\n",
    "opt[\"value_at_risk\"]=value_at_risk\n",
    "opt[\"predicted_returns\"]=predicted_returns\n",
    "opt[\"actual_returns\"]=actual_returns"
   ]
  },
  {
   "cell_type": "code",
   "execution_count": 84,
   "id": "f5793920-6b44-474e-b6cf-9601762609d0",
   "metadata": {
    "tags": []
   },
   "outputs": [],
   "source": [
    "opt[\"expected_gain\"]=(np.exp(opt.predicted_returns)-1)*opt.investments\n",
    "opt[\"actual_gain\"]=(np.exp(opt.actual_returns)-1)*opt.investments"
   ]
  },
  {
   "cell_type": "code",
   "execution_count": 85,
   "id": "75c9704d-a9a0-4fca-ad57-d6c0e3a47190",
   "metadata": {},
   "outputs": [
    {
     "data": {
      "text/html": [
       "<div>\n",
       "<style scoped>\n",
       "    .dataframe tbody tr th:only-of-type {\n",
       "        vertical-align: middle;\n",
       "    }\n",
       "\n",
       "    .dataframe tbody tr th {\n",
       "        vertical-align: top;\n",
       "    }\n",
       "\n",
       "    .dataframe thead th {\n",
       "        text-align: right;\n",
       "    }\n",
       "</style>\n",
       "<table border=\"1\" class=\"dataframe\">\n",
       "  <thead>\n",
       "    <tr style=\"text-align: right;\">\n",
       "      <th></th>\n",
       "      <th>date</th>\n",
       "      <th>investments</th>\n",
       "      <th>value_at_risk</th>\n",
       "      <th>predicted_returns</th>\n",
       "      <th>actual_returns</th>\n",
       "      <th>expected_gain</th>\n",
       "      <th>actual_gain</th>\n",
       "    </tr>\n",
       "  </thead>\n",
       "  <tbody>\n",
       "    <tr>\n",
       "      <th>0</th>\n",
       "      <td>2023-05-11 00:00:00+00:00</td>\n",
       "      <td>45.725816</td>\n",
       "      <td>4.843961</td>\n",
       "      <td>0.023667</td>\n",
       "      <td>0.079750</td>\n",
       "      <td>1.095088</td>\n",
       "      <td>3.796005</td>\n",
       "    </tr>\n",
       "    <tr>\n",
       "      <th>1</th>\n",
       "      <td>2023-05-12 00:00:00+00:00</td>\n",
       "      <td>57.451560</td>\n",
       "      <td>7.660252</td>\n",
       "      <td>0.029688</td>\n",
       "      <td>0.052749</td>\n",
       "      <td>1.731171</td>\n",
       "      <td>3.111885</td>\n",
       "    </tr>\n",
       "    <tr>\n",
       "      <th>2</th>\n",
       "      <td>2023-05-15 00:00:00+00:00</td>\n",
       "      <td>62.473762</td>\n",
       "      <td>9.627969</td>\n",
       "      <td>0.037685</td>\n",
       "      <td>0.048633</td>\n",
       "      <td>2.399269</td>\n",
       "      <td>3.113406</td>\n",
       "    </tr>\n",
       "    <tr>\n",
       "      <th>3</th>\n",
       "      <td>2023-05-16 00:00:00+00:00</td>\n",
       "      <td>64.734744</td>\n",
       "      <td>9.864168</td>\n",
       "      <td>0.046312</td>\n",
       "      <td>0.014126</td>\n",
       "      <td>3.068500</td>\n",
       "      <td>0.920960</td>\n",
       "    </tr>\n",
       "    <tr>\n",
       "      <th>4</th>\n",
       "      <td>2023-05-17 00:00:00+00:00</td>\n",
       "      <td>60.296749</td>\n",
       "      <td>9.190959</td>\n",
       "      <td>0.053860</td>\n",
       "      <td>0.039351</td>\n",
       "      <td>3.336639</td>\n",
       "      <td>2.420062</td>\n",
       "    </tr>\n",
       "    <tr>\n",
       "      <th>5</th>\n",
       "      <td>2023-05-18 00:00:00+00:00</td>\n",
       "      <td>65.558717</td>\n",
       "      <td>9.949910</td>\n",
       "      <td>0.058527</td>\n",
       "      <td>0.029925</td>\n",
       "      <td>3.951436</td>\n",
       "      <td>1.991489</td>\n",
       "    </tr>\n",
       "    <tr>\n",
       "      <th>6</th>\n",
       "      <td>2023-05-19 00:00:00+00:00</td>\n",
       "      <td>50.282348</td>\n",
       "      <td>7.937208</td>\n",
       "      <td>0.060672</td>\n",
       "      <td>0.036536</td>\n",
       "      <td>3.145203</td>\n",
       "      <td>1.871102</td>\n",
       "    </tr>\n",
       "    <tr>\n",
       "      <th>7</th>\n",
       "      <td>2023-05-22 00:00:00+00:00</td>\n",
       "      <td>100.058137</td>\n",
       "      <td>9.969078</td>\n",
       "      <td>0.062276</td>\n",
       "      <td>0.041403</td>\n",
       "      <td>6.429346</td>\n",
       "      <td>4.229693</td>\n",
       "    </tr>\n",
       "    <tr>\n",
       "      <th>8</th>\n",
       "      <td>2023-05-23 00:00:00+00:00</td>\n",
       "      <td>100.309677</td>\n",
       "      <td>9.981920</td>\n",
       "      <td>0.061520</td>\n",
       "      <td>0.055400</td>\n",
       "      <td>6.364853</td>\n",
       "      <td>5.713953</td>\n",
       "    </tr>\n",
       "    <tr>\n",
       "      <th>9</th>\n",
       "      <td>2023-05-24 00:00:00+00:00</td>\n",
       "      <td>98.994930</td>\n",
       "      <td>9.756829</td>\n",
       "      <td>0.052879</td>\n",
       "      <td>-inf</td>\n",
       "      <td>5.375586</td>\n",
       "      <td>-98.994930</td>\n",
       "    </tr>\n",
       "  </tbody>\n",
       "</table>\n",
       "</div>"
      ],
      "text/plain": [
       "                       date  investments  value_at_risk  predicted_returns  \\\n",
       "0 2023-05-11 00:00:00+00:00    45.725816       4.843961           0.023667   \n",
       "1 2023-05-12 00:00:00+00:00    57.451560       7.660252           0.029688   \n",
       "2 2023-05-15 00:00:00+00:00    62.473762       9.627969           0.037685   \n",
       "3 2023-05-16 00:00:00+00:00    64.734744       9.864168           0.046312   \n",
       "4 2023-05-17 00:00:00+00:00    60.296749       9.190959           0.053860   \n",
       "5 2023-05-18 00:00:00+00:00    65.558717       9.949910           0.058527   \n",
       "6 2023-05-19 00:00:00+00:00    50.282348       7.937208           0.060672   \n",
       "7 2023-05-22 00:00:00+00:00   100.058137       9.969078           0.062276   \n",
       "8 2023-05-23 00:00:00+00:00   100.309677       9.981920           0.061520   \n",
       "9 2023-05-24 00:00:00+00:00    98.994930       9.756829           0.052879   \n",
       "\n",
       "   actual_returns  expected_gain  actual_gain  \n",
       "0        0.079750       1.095088     3.796005  \n",
       "1        0.052749       1.731171     3.111885  \n",
       "2        0.048633       2.399269     3.113406  \n",
       "3        0.014126       3.068500     0.920960  \n",
       "4        0.039351       3.336639     2.420062  \n",
       "5        0.029925       3.951436     1.991489  \n",
       "6        0.036536       3.145203     1.871102  \n",
       "7        0.041403       6.429346     4.229693  \n",
       "8        0.055400       6.364853     5.713953  \n",
       "9            -inf       5.375586   -98.994930  "
      ]
     },
     "execution_count": 85,
     "metadata": {},
     "output_type": "execute_result"
    }
   ],
   "source": [
    "opt"
   ]
  },
  {
   "cell_type": "code",
   "execution_count": 101,
   "id": "30fac0d1-51b5-4113-a6ec-06933637d8e1",
   "metadata": {},
   "outputs": [
    {
     "data": {
      "text/plain": [
       "1.0632574287761474"
      ]
     },
     "execution_count": 101,
     "metadata": {},
     "output_type": "execute_result"
    }
   ],
   "source": [
    "(127.24*0.0041+0.2040*517.37)/(121.64*0.0041+0.2040*486.55)"
   ]
  },
  {
   "cell_type": "code",
   "execution_count": 99,
   "id": "8016fd49-30ed-454d-b31f-67d3ffba24c9",
   "metadata": {},
   "outputs": [
    {
     "data": {
      "text/plain": [
       "Timestamp('2023-05-24 00:00:00+0000', tz='UTC')"
      ]
     },
     "execution_count": 99,
     "metadata": {},
     "output_type": "execute_result"
    }
   ],
   "source": [
    "date"
   ]
  },
  {
   "cell_type": "code",
   "execution_count": 95,
   "id": "184b4d1b-f3a1-4dec-8073-8466524b983a",
   "metadata": {},
   "outputs": [
    {
     "data": {
      "text/plain": [
       "Timestamp('2023-06-05 00:00:00+0000', tz='UTC')"
      ]
     },
     "execution_count": 95,
     "metadata": {},
     "output_type": "execute_result"
    }
   ],
   "source": [
    "result[result.date==date][\"lag_date_Close_7\"].unique()[0]"
   ]
  },
  {
   "cell_type": "code",
   "execution_count": null,
   "id": "f186bb1e-85c8-4ff7-a8f8-fc0c5e91d6e6",
   "metadata": {},
   "outputs": [],
   "source": []
  },
  {
   "cell_type": "code",
   "execution_count": 679,
   "id": "46e037b6-51a0-40db-876f-7c54816ffb5b",
   "metadata": {
    "tags": []
   },
   "outputs": [
    {
     "data": {
      "text/html": [
       "<div>\n",
       "<style scoped>\n",
       "    .dataframe tbody tr th:only-of-type {\n",
       "        vertical-align: middle;\n",
       "    }\n",
       "\n",
       "    .dataframe tbody tr th {\n",
       "        vertical-align: top;\n",
       "    }\n",
       "\n",
       "    .dataframe thead th {\n",
       "        text-align: right;\n",
       "    }\n",
       "</style>\n",
       "<table border=\"1\" class=\"dataframe\">\n",
       "  <thead>\n",
       "    <tr style=\"text-align: right;\">\n",
       "      <th></th>\n",
       "      <th>date</th>\n",
       "      <th>investments</th>\n",
       "      <th>value_at_risk</th>\n",
       "      <th>predicted_returns</th>\n",
       "      <th>actual_returns</th>\n",
       "      <th>expected_gain</th>\n",
       "      <th>actual_gain</th>\n",
       "    </tr>\n",
       "  </thead>\n",
       "  <tbody>\n",
       "    <tr>\n",
       "      <th>6</th>\n",
       "      <td>2023-04-28</td>\n",
       "      <td>94.299609</td>\n",
       "      <td>6.062994</td>\n",
       "      <td>0.009327</td>\n",
       "      <td>0.010373</td>\n",
       "      <td>0.883629</td>\n",
       "      <td>0.983294</td>\n",
       "    </tr>\n",
       "    <tr>\n",
       "      <th>5</th>\n",
       "      <td>2023-04-27</td>\n",
       "      <td>92.076018</td>\n",
       "      <td>5.769679</td>\n",
       "      <td>0.009469</td>\n",
       "      <td>-0.014464</td>\n",
       "      <td>0.876030</td>\n",
       "      <td>-1.322214</td>\n",
       "    </tr>\n",
       "    <tr>\n",
       "      <th>7</th>\n",
       "      <td>2023-05-01</td>\n",
       "      <td>99.486469</td>\n",
       "      <td>5.664391</td>\n",
       "      <td>0.009593</td>\n",
       "      <td>0.040661</td>\n",
       "      <td>0.958936</td>\n",
       "      <td>4.128601</td>\n",
       "    </tr>\n",
       "    <tr>\n",
       "      <th>8</th>\n",
       "      <td>2023-05-02</td>\n",
       "      <td>102.970688</td>\n",
       "      <td>5.163283</td>\n",
       "      <td>0.009882</td>\n",
       "      <td>0.046193</td>\n",
       "      <td>1.022644</td>\n",
       "      <td>4.868100</td>\n",
       "    </tr>\n",
       "    <tr>\n",
       "      <th>4</th>\n",
       "      <td>2023-04-26</td>\n",
       "      <td>85.735222</td>\n",
       "      <td>5.715652</td>\n",
       "      <td>0.010206</td>\n",
       "      <td>0.013813</td>\n",
       "      <td>0.879458</td>\n",
       "      <td>1.192472</td>\n",
       "    </tr>\n",
       "    <tr>\n",
       "      <th>9</th>\n",
       "      <td>2023-05-03</td>\n",
       "      <td>108.777089</td>\n",
       "      <td>4.908646</td>\n",
       "      <td>0.010966</td>\n",
       "      <td>0.036354</td>\n",
       "      <td>1.199426</td>\n",
       "      <td>4.027255</td>\n",
       "    </tr>\n",
       "    <tr>\n",
       "      <th>3</th>\n",
       "      <td>2023-04-25</td>\n",
       "      <td>81.221009</td>\n",
       "      <td>5.869288</td>\n",
       "      <td>0.012276</td>\n",
       "      <td>0.004335</td>\n",
       "      <td>1.003216</td>\n",
       "      <td>0.352857</td>\n",
       "    </tr>\n",
       "    <tr>\n",
       "      <th>10</th>\n",
       "      <td>2023-05-04</td>\n",
       "      <td>106.063626</td>\n",
       "      <td>4.519701</td>\n",
       "      <td>0.013440</td>\n",
       "      <td>0.024856</td>\n",
       "      <td>1.435154</td>\n",
       "      <td>2.669363</td>\n",
       "    </tr>\n",
       "    <tr>\n",
       "      <th>2</th>\n",
       "      <td>2023-04-24</td>\n",
       "      <td>76.650675</td>\n",
       "      <td>5.596539</td>\n",
       "      <td>0.015102</td>\n",
       "      <td>-0.020510</td>\n",
       "      <td>1.166337</td>\n",
       "      <td>-1.556102</td>\n",
       "    </tr>\n",
       "    <tr>\n",
       "      <th>11</th>\n",
       "      <td>2023-05-05</td>\n",
       "      <td>108.119102</td>\n",
       "      <td>4.491171</td>\n",
       "      <td>0.017309</td>\n",
       "      <td>-0.004375</td>\n",
       "      <td>1.887745</td>\n",
       "      <td>-0.471943</td>\n",
       "    </tr>\n",
       "    <tr>\n",
       "      <th>1</th>\n",
       "      <td>2023-04-21</td>\n",
       "      <td>71.907548</td>\n",
       "      <td>5.249824</td>\n",
       "      <td>0.017750</td>\n",
       "      <td>-0.029277</td>\n",
       "      <td>1.287718</td>\n",
       "      <td>-2.074692</td>\n",
       "    </tr>\n",
       "    <tr>\n",
       "      <th>0</th>\n",
       "      <td>2023-04-20</td>\n",
       "      <td>67.833834</td>\n",
       "      <td>5.131359</td>\n",
       "      <td>0.019645</td>\n",
       "      <td>-0.016200</td>\n",
       "      <td>1.345796</td>\n",
       "      <td>-1.090080</td>\n",
       "    </tr>\n",
       "    <tr>\n",
       "      <th>12</th>\n",
       "      <td>2023-05-08</td>\n",
       "      <td>107.649844</td>\n",
       "      <td>4.750388</td>\n",
       "      <td>0.020521</td>\n",
       "      <td>0.006319</td>\n",
       "      <td>2.231894</td>\n",
       "      <td>0.682383</td>\n",
       "    </tr>\n",
       "    <tr>\n",
       "      <th>13</th>\n",
       "      <td>2023-05-09</td>\n",
       "      <td>109.572832</td>\n",
       "      <td>5.279540</td>\n",
       "      <td>0.023378</td>\n",
       "      <td>-0.004955</td>\n",
       "      <td>2.591751</td>\n",
       "      <td>-0.541584</td>\n",
       "    </tr>\n",
       "    <tr>\n",
       "      <th>14</th>\n",
       "      <td>2023-05-10</td>\n",
       "      <td>112.636504</td>\n",
       "      <td>5.417209</td>\n",
       "      <td>0.027056</td>\n",
       "      <td>-0.011226</td>\n",
       "      <td>3.089079</td>\n",
       "      <td>-1.257368</td>\n",
       "    </tr>\n",
       "    <tr>\n",
       "      <th>15</th>\n",
       "      <td>2023-05-11</td>\n",
       "      <td>105.708770</td>\n",
       "      <td>5.538281</td>\n",
       "      <td>0.031222</td>\n",
       "      <td>-0.013160</td>\n",
       "      <td>3.352474</td>\n",
       "      <td>-1.382009</td>\n",
       "    </tr>\n",
       "    <tr>\n",
       "      <th>16</th>\n",
       "      <td>2023-05-12</td>\n",
       "      <td>99.798715</td>\n",
       "      <td>5.564876</td>\n",
       "      <td>0.035606</td>\n",
       "      <td>-0.024333</td>\n",
       "      <td>3.617431</td>\n",
       "      <td>-2.399113</td>\n",
       "    </tr>\n",
       "    <tr>\n",
       "      <th>21</th>\n",
       "      <td>2023-05-19</td>\n",
       "      <td>107.600905</td>\n",
       "      <td>6.051099</td>\n",
       "      <td>0.037482</td>\n",
       "      <td>-0.039841</td>\n",
       "      <td>4.109632</td>\n",
       "      <td>-4.202656</td>\n",
       "    </tr>\n",
       "    <tr>\n",
       "      <th>17</th>\n",
       "      <td>2023-05-15</td>\n",
       "      <td>97.746071</td>\n",
       "      <td>5.465505</td>\n",
       "      <td>0.038632</td>\n",
       "      <td>-0.026935</td>\n",
       "      <td>3.850031</td>\n",
       "      <td>-2.597667</td>\n",
       "    </tr>\n",
       "    <tr>\n",
       "      <th>20</th>\n",
       "      <td>2023-05-18</td>\n",
       "      <td>107.512786</td>\n",
       "      <td>5.984958</td>\n",
       "      <td>0.038901</td>\n",
       "      <td>-0.032256</td>\n",
       "      <td>4.264819</td>\n",
       "      <td>-3.412550</td>\n",
       "    </tr>\n",
       "    <tr>\n",
       "      <th>19</th>\n",
       "      <td>2023-05-17</td>\n",
       "      <td>102.848374</td>\n",
       "      <td>5.659653</td>\n",
       "      <td>0.040064</td>\n",
       "      <td>-0.015987</td>\n",
       "      <td>4.204159</td>\n",
       "      <td>-1.631180</td>\n",
       "    </tr>\n",
       "    <tr>\n",
       "      <th>18</th>\n",
       "      <td>2023-05-16</td>\n",
       "      <td>97.146518</td>\n",
       "      <td>5.489387</td>\n",
       "      <td>0.040078</td>\n",
       "      <td>-0.005071</td>\n",
       "      <td>3.972473</td>\n",
       "      <td>-0.491401</td>\n",
       "    </tr>\n",
       "  </tbody>\n",
       "</table>\n",
       "</div>"
      ],
      "text/plain": [
       "         date  investments  value_at_risk  predicted_returns  actual_returns  \\\n",
       "6  2023-04-28    94.299609       6.062994           0.009327        0.010373   \n",
       "5  2023-04-27    92.076018       5.769679           0.009469       -0.014464   \n",
       "7  2023-05-01    99.486469       5.664391           0.009593        0.040661   \n",
       "8  2023-05-02   102.970688       5.163283           0.009882        0.046193   \n",
       "4  2023-04-26    85.735222       5.715652           0.010206        0.013813   \n",
       "9  2023-05-03   108.777089       4.908646           0.010966        0.036354   \n",
       "3  2023-04-25    81.221009       5.869288           0.012276        0.004335   \n",
       "10 2023-05-04   106.063626       4.519701           0.013440        0.024856   \n",
       "2  2023-04-24    76.650675       5.596539           0.015102       -0.020510   \n",
       "11 2023-05-05   108.119102       4.491171           0.017309       -0.004375   \n",
       "1  2023-04-21    71.907548       5.249824           0.017750       -0.029277   \n",
       "0  2023-04-20    67.833834       5.131359           0.019645       -0.016200   \n",
       "12 2023-05-08   107.649844       4.750388           0.020521        0.006319   \n",
       "13 2023-05-09   109.572832       5.279540           0.023378       -0.004955   \n",
       "14 2023-05-10   112.636504       5.417209           0.027056       -0.011226   \n",
       "15 2023-05-11   105.708770       5.538281           0.031222       -0.013160   \n",
       "16 2023-05-12    99.798715       5.564876           0.035606       -0.024333   \n",
       "21 2023-05-19   107.600905       6.051099           0.037482       -0.039841   \n",
       "17 2023-05-15    97.746071       5.465505           0.038632       -0.026935   \n",
       "20 2023-05-18   107.512786       5.984958           0.038901       -0.032256   \n",
       "19 2023-05-17   102.848374       5.659653           0.040064       -0.015987   \n",
       "18 2023-05-16    97.146518       5.489387           0.040078       -0.005071   \n",
       "\n",
       "    expected_gain  actual_gain  \n",
       "6        0.883629     0.983294  \n",
       "5        0.876030    -1.322214  \n",
       "7        0.958936     4.128601  \n",
       "8        1.022644     4.868100  \n",
       "4        0.879458     1.192472  \n",
       "9        1.199426     4.027255  \n",
       "3        1.003216     0.352857  \n",
       "10       1.435154     2.669363  \n",
       "2        1.166337    -1.556102  \n",
       "11       1.887745    -0.471943  \n",
       "1        1.287718    -2.074692  \n",
       "0        1.345796    -1.090080  \n",
       "12       2.231894     0.682383  \n",
       "13       2.591751    -0.541584  \n",
       "14       3.089079    -1.257368  \n",
       "15       3.352474    -1.382009  \n",
       "16       3.617431    -2.399113  \n",
       "21       4.109632    -4.202656  \n",
       "17       3.850031    -2.597667  \n",
       "20       4.264819    -3.412550  \n",
       "19       4.204159    -1.631180  \n",
       "18       3.972473    -0.491401  "
      ]
     },
     "execution_count": 679,
     "metadata": {},
     "output_type": "execute_result"
    }
   ],
   "source": [
    "opt.sort_values(\"predicted_returns\")"
   ]
  },
  {
   "cell_type": "code",
   "execution_count": 686,
   "id": "628a8f8d-552f-45f5-9273-9cf991dad039",
   "metadata": {},
   "outputs": [
    {
     "data": {
      "text/plain": [
       "9.983229440507854"
      ]
     },
     "execution_count": 686,
     "metadata": {},
     "output_type": "execute_result"
    }
   ],
   "source": [
    "opt.actual_gain.sum()"
   ]
  },
  {
   "cell_type": "code",
   "execution_count": 680,
   "id": "b3f682c7-723b-4724-89ab-3c07336be7bf",
   "metadata": {},
   "outputs": [
    {
     "data": {
      "text/plain": [
       "-5.526234056041606"
      ]
     },
     "execution_count": 680,
     "metadata": {},
     "output_type": "execute_result"
    }
   ],
   "source": [
    "opt.actual_gain.sum()"
   ]
  },
  {
   "cell_type": "code",
   "execution_count": 163,
   "id": "00e67c57-7424-4726-9de8-ba3561588a40",
   "metadata": {
    "tags": []
   },
   "outputs": [
    {
     "name": "stdout",
     "output_type": "stream",
     "text": [
      "Dropping the following ticker ['PPCB']\n"
     ]
    }
   ],
   "source": [
    "res,opt_tickers=optimise(prediction_results=result,\n",
    "             date=date,\n",
    "             min_budget=MIN_BUDGET,\n",
    "             max_budget=MAX_BUDGET,\n",
    "             tickers=tickers,\n",
    "             risk_level=RISK_LEVEL,\n",
    "             predicted_log_return_column=\"pred_step_0\",\n",
    "             expected_price_column=expected_price)"
   ]
  },
  {
   "cell_type": "code",
   "execution_count": 164,
   "id": "c9979136-829e-4fa8-b17e-e1ab04e7076f",
   "metadata": {
    "tags": []
   },
   "outputs": [],
   "source": [
    "portfolio=pd.DataFrame([opt_tickers,res]).transpose()\n",
    "portfolio.columns=[\"ticker\",\"shares\"]\n",
    "portfolio=result[result.date==date][[\"ticker\",\"Close\"]].merge(portfolio,on=\"ticker\",how=\"right\")"
   ]
  },
  {
   "cell_type": "code",
   "execution_count": 165,
   "id": "aad4ca39-0644-4641-a3a1-2066ad826e37",
   "metadata": {
    "tags": []
   },
   "outputs": [
    {
     "data": {
      "text/plain": [
       "<AxesSubplot: xlabel='ticker'>"
      ]
     },
     "execution_count": 165,
     "metadata": {},
     "output_type": "execute_result"
    },
    {
     "data": {
      "image/png": "[encoded data removed]",
      "text/plain": [
       "<Figure size 2000x1000 with 1 Axes>"
      ]
     },
     "metadata": {},
     "output_type": "display_data"
    }
   ],
   "source": [
    "portfolio.plot.bar(x=\"ticker\",y=\"shares\",figsize=(20,10))"
   ]
  },
  {
   "cell_type": "code",
   "execution_count": 111,
   "id": "b9f57126-8641-4763-8a04-9e7c26532747",
   "metadata": {
    "tags": []
   },
   "outputs": [
    {
     "data": {
      "text/plain": [
       "array(['2023-05-05T00:00:00.000000000', '2023-05-08T00:00:00.000000000',\n",
       "       '2023-05-09T00:00:00.000000000', '2023-05-10T00:00:00.000000000',\n",
       "       '2023-05-11T00:00:00.000000000', '2023-05-12T00:00:00.000000000',\n",
       "       '2023-05-15T00:00:00.000000000', '2023-05-16T00:00:00.000000000',\n",
       "       '2023-05-17T00:00:00.000000000', '2023-05-18T00:00:00.000000000'],\n",
       "      dtype='datetime64[ns]')"
      ]
     },
     "execution_count": 111,
     "metadata": {},
     "output_type": "execute_result"
    }
   ],
   "source": [
    "result[result.date<=inference_date].date.unique()[-17:-7]"
   ]
  },
  {
   "cell_type": "code",
   "execution_count": null,
   "id": "8f126153-d6ba-454e-8198-b0eefa73316f",
   "metadata": {},
   "outputs": [],
   "source": []
  },
  {
   "cell_type": "code",
   "execution_count": 392,
   "id": "b1fdd426-931e-4fab-941f-4c5ed34f828d",
   "metadata": {
    "tags": []
   },
   "outputs": [],
   "source": [
    "portfolio=pd.DataFrame([opt_tickers,res]).transpose()\n",
    "portfolio.columns=[\"ticker\",\"shares\"]\n",
    "portfolio=result[result.date==date][[\"ticker\",\"Close_shift_-1\"]].merge(portfolio,on=\"ticker\",how=\"right\")"
   ]
  },
  {
   "cell_type": "code",
   "execution_count": 393,
   "id": "de2db2b1-5372-425e-a948-31e865a37d82",
   "metadata": {
    "tags": []
   },
   "outputs": [
    {
     "data": {
      "text/html": [
       "<div>\n",
       "<style scoped>\n",
       "    .dataframe tbody tr th:only-of-type {\n",
       "        vertical-align: middle;\n",
       "    }\n",
       "\n",
       "    .dataframe tbody tr th {\n",
       "        vertical-align: top;\n",
       "    }\n",
       "\n",
       "    .dataframe thead th {\n",
       "        text-align: right;\n",
       "    }\n",
       "</style>\n",
       "<table border=\"1\" class=\"dataframe\">\n",
       "  <thead>\n",
       "    <tr style=\"text-align: right;\">\n",
       "      <th></th>\n",
       "      <th>ticker</th>\n",
       "      <th>Close_shift_-1</th>\n",
       "      <th>shares</th>\n",
       "    </tr>\n",
       "  </thead>\n",
       "  <tbody>\n",
       "    <tr>\n",
       "      <th>0</th>\n",
       "      <td>AAPL</td>\n",
       "      <td>175.429993</td>\n",
       "      <td>0.0</td>\n",
       "    </tr>\n",
       "    <tr>\n",
       "      <th>1</th>\n",
       "      <td>ABBV</td>\n",
       "      <td>137.559998</td>\n",
       "      <td>0.0</td>\n",
       "    </tr>\n",
       "    <tr>\n",
       "      <th>2</th>\n",
       "      <td>ABT</td>\n",
       "      <td>102.870003</td>\n",
       "      <td>0.0</td>\n",
       "    </tr>\n",
       "    <tr>\n",
       "      <th>3</th>\n",
       "      <td>ACN</td>\n",
       "      <td>303.600006</td>\n",
       "      <td>0.0</td>\n",
       "    </tr>\n",
       "    <tr>\n",
       "      <th>4</th>\n",
       "      <td>ADBE</td>\n",
       "      <td>415.390015</td>\n",
       "      <td>0.0</td>\n",
       "    </tr>\n",
       "    <tr>\n",
       "      <th>5</th>\n",
       "      <td>AMD</td>\n",
       "      <td>127.029999</td>\n",
       "      <td>0.0</td>\n",
       "    </tr>\n",
       "    <tr>\n",
       "      <th>6</th>\n",
       "      <td>AMZN</td>\n",
       "      <td>120.110001</td>\n",
       "      <td>0.0</td>\n",
       "    </tr>\n",
       "    <tr>\n",
       "      <th>7</th>\n",
       "      <td>ASML</td>\n",
       "      <td>735.929993</td>\n",
       "      <td>0.0</td>\n",
       "    </tr>\n",
       "    <tr>\n",
       "      <th>8</th>\n",
       "      <td>AVGO</td>\n",
       "      <td>812.729980</td>\n",
       "      <td>0.0</td>\n",
       "    </tr>\n",
       "    <tr>\n",
       "      <th>9</th>\n",
       "      <td>AZN</td>\n",
       "      <td>72.519997</td>\n",
       "      <td>0.0</td>\n",
       "    </tr>\n",
       "    <tr>\n",
       "      <th>10</th>\n",
       "      <td>BAC</td>\n",
       "      <td>28.309999</td>\n",
       "      <td>0.0</td>\n",
       "    </tr>\n",
       "    <tr>\n",
       "      <th>11</th>\n",
       "      <td>BHP</td>\n",
       "      <td>56.669998</td>\n",
       "      <td>0.0</td>\n",
       "    </tr>\n",
       "    <tr>\n",
       "      <th>12</th>\n",
       "      <td>COST</td>\n",
       "      <td>507.260010</td>\n",
       "      <td>0.0</td>\n",
       "    </tr>\n",
       "    <tr>\n",
       "      <th>13</th>\n",
       "      <td>CRM</td>\n",
       "      <td>215.440002</td>\n",
       "      <td>0.0</td>\n",
       "    </tr>\n",
       "    <tr>\n",
       "      <th>14</th>\n",
       "      <td>CSCO</td>\n",
       "      <td>49.860001</td>\n",
       "      <td>0.0</td>\n",
       "    </tr>\n",
       "    <tr>\n",
       "      <th>15</th>\n",
       "      <td>CVX</td>\n",
       "      <td>154.080002</td>\n",
       "      <td>0.0</td>\n",
       "    </tr>\n",
       "    <tr>\n",
       "      <th>16</th>\n",
       "      <td>DHR</td>\n",
       "      <td>232.210007</td>\n",
       "      <td>0.0</td>\n",
       "    </tr>\n",
       "    <tr>\n",
       "      <th>17</th>\n",
       "      <td>DIS</td>\n",
       "      <td>88.290001</td>\n",
       "      <td>0.0</td>\n",
       "    </tr>\n",
       "    <tr>\n",
       "      <th>18</th>\n",
       "      <td>FMX</td>\n",
       "      <td>98.379997</td>\n",
       "      <td>0.0</td>\n",
       "    </tr>\n",
       "    <tr>\n",
       "      <th>19</th>\n",
       "      <td>GOOG</td>\n",
       "      <td>125.430000</td>\n",
       "      <td>0.0</td>\n",
       "    </tr>\n",
       "    <tr>\n",
       "      <th>20</th>\n",
       "      <td>HD</td>\n",
       "      <td>292.829987</td>\n",
       "      <td>0.0</td>\n",
       "    </tr>\n",
       "    <tr>\n",
       "      <th>21</th>\n",
       "      <td>HSBC</td>\n",
       "      <td>37.820000</td>\n",
       "      <td>0.0</td>\n",
       "    </tr>\n",
       "    <tr>\n",
       "      <th>22</th>\n",
       "      <td>JNJ</td>\n",
       "      <td>154.350006</td>\n",
       "      <td>0.0</td>\n",
       "    </tr>\n",
       "    <tr>\n",
       "      <th>23</th>\n",
       "      <td>JPM</td>\n",
       "      <td>136.940002</td>\n",
       "      <td>0.0</td>\n",
       "    </tr>\n",
       "    <tr>\n",
       "      <th>24</th>\n",
       "      <td>KO</td>\n",
       "      <td>60.259998</td>\n",
       "      <td>0.0</td>\n",
       "    </tr>\n",
       "    <tr>\n",
       "      <th>25</th>\n",
       "      <td>LIN</td>\n",
       "      <td>356.209991</td>\n",
       "      <td>0.0</td>\n",
       "    </tr>\n",
       "    <tr>\n",
       "      <th>26</th>\n",
       "      <td>LLY</td>\n",
       "      <td>425.790009</td>\n",
       "      <td>0.0</td>\n",
       "    </tr>\n",
       "    <tr>\n",
       "      <th>27</th>\n",
       "      <td>MA</td>\n",
       "      <td>374.369995</td>\n",
       "      <td>0.0</td>\n",
       "    </tr>\n",
       "    <tr>\n",
       "      <th>28</th>\n",
       "      <td>MCD</td>\n",
       "      <td>286.040009</td>\n",
       "      <td>0.0</td>\n",
       "    </tr>\n",
       "    <tr>\n",
       "      <th>29</th>\n",
       "      <td>MRK</td>\n",
       "      <td>111.070000</td>\n",
       "      <td>0.0</td>\n",
       "    </tr>\n",
       "    <tr>\n",
       "      <th>30</th>\n",
       "      <td>MSFT</td>\n",
       "      <td>332.890015</td>\n",
       "      <td>0.0</td>\n",
       "    </tr>\n",
       "    <tr>\n",
       "      <th>31</th>\n",
       "      <td>NEE</td>\n",
       "      <td>73.919998</td>\n",
       "      <td>0.0</td>\n",
       "    </tr>\n",
       "    <tr>\n",
       "      <th>32</th>\n",
       "      <td>NFLX</td>\n",
       "      <td>378.880005</td>\n",
       "      <td>0.0</td>\n",
       "    </tr>\n",
       "    <tr>\n",
       "      <th>33</th>\n",
       "      <td>NKE</td>\n",
       "      <td>107.510002</td>\n",
       "      <td>0.905996</td>\n",
       "    </tr>\n",
       "    <tr>\n",
       "      <th>34</th>\n",
       "      <td>NVDA</td>\n",
       "      <td>389.459991</td>\n",
       "      <td>0.0</td>\n",
       "    </tr>\n",
       "    <tr>\n",
       "      <th>35</th>\n",
       "      <td>NVO</td>\n",
       "      <td>162.970001</td>\n",
       "      <td>0.0</td>\n",
       "    </tr>\n",
       "    <tr>\n",
       "      <th>36</th>\n",
       "      <td>NVS</td>\n",
       "      <td>97.860001</td>\n",
       "      <td>0.0</td>\n",
       "    </tr>\n",
       "    <tr>\n",
       "      <th>37</th>\n",
       "      <td>ORCL</td>\n",
       "      <td>104.080002</td>\n",
       "      <td>0.0</td>\n",
       "    </tr>\n",
       "    <tr>\n",
       "      <th>38</th>\n",
       "      <td>PEP</td>\n",
       "      <td>183.580002</td>\n",
       "      <td>0.0</td>\n",
       "    </tr>\n",
       "    <tr>\n",
       "      <th>39</th>\n",
       "      <td>PFE</td>\n",
       "      <td>37.599998</td>\n",
       "      <td>0.0</td>\n",
       "    </tr>\n",
       "    <tr>\n",
       "      <th>40</th>\n",
       "      <td>PG</td>\n",
       "      <td>145.399994</td>\n",
       "      <td>0.0</td>\n",
       "    </tr>\n",
       "    <tr>\n",
       "      <th>41</th>\n",
       "      <td>SAP</td>\n",
       "      <td>131.410004</td>\n",
       "      <td>0.0</td>\n",
       "    </tr>\n",
       "    <tr>\n",
       "      <th>42</th>\n",
       "      <td>TM</td>\n",
       "      <td>140.080002</td>\n",
       "      <td>0.0</td>\n",
       "    </tr>\n",
       "    <tr>\n",
       "      <th>43</th>\n",
       "      <td>TMO</td>\n",
       "      <td>522.020020</td>\n",
       "      <td>0.0</td>\n",
       "    </tr>\n",
       "    <tr>\n",
       "      <th>44</th>\n",
       "      <td>TMUS</td>\n",
       "      <td>135.149994</td>\n",
       "      <td>0.0</td>\n",
       "    </tr>\n",
       "    <tr>\n",
       "      <th>45</th>\n",
       "      <td>TSLA</td>\n",
       "      <td>193.169998</td>\n",
       "      <td>0.0</td>\n",
       "    </tr>\n",
       "    <tr>\n",
       "      <th>46</th>\n",
       "      <td>TSM</td>\n",
       "      <td>103.209999</td>\n",
       "      <td>0.0</td>\n",
       "    </tr>\n",
       "    <tr>\n",
       "      <th>47</th>\n",
       "      <td>TXN</td>\n",
       "      <td>176.289993</td>\n",
       "      <td>0.0</td>\n",
       "    </tr>\n",
       "    <tr>\n",
       "      <th>48</th>\n",
       "      <td>UNH</td>\n",
       "      <td>481.519989</td>\n",
       "      <td>0.0</td>\n",
       "    </tr>\n",
       "    <tr>\n",
       "      <th>49</th>\n",
       "      <td>UPS</td>\n",
       "      <td>171.570007</td>\n",
       "      <td>0.0</td>\n",
       "    </tr>\n",
       "    <tr>\n",
       "      <th>50</th>\n",
       "      <td>V</td>\n",
       "      <td>225.009995</td>\n",
       "      <td>0.0</td>\n",
       "    </tr>\n",
       "    <tr>\n",
       "      <th>51</th>\n",
       "      <td>VZ</td>\n",
       "      <td>35.000000</td>\n",
       "      <td>0.18643</td>\n",
       "    </tr>\n",
       "    <tr>\n",
       "      <th>52</th>\n",
       "      <td>WFC</td>\n",
       "      <td>41.230000</td>\n",
       "      <td>0.0</td>\n",
       "    </tr>\n",
       "    <tr>\n",
       "      <th>53</th>\n",
       "      <td>WMT</td>\n",
       "      <td>146.419998</td>\n",
       "      <td>0.0</td>\n",
       "    </tr>\n",
       "    <tr>\n",
       "      <th>54</th>\n",
       "      <td>XOM</td>\n",
       "      <td>104.970001</td>\n",
       "      <td>0.0</td>\n",
       "    </tr>\n",
       "  </tbody>\n",
       "</table>\n",
       "</div>"
      ],
      "text/plain": [
       "   ticker  Close_shift_-1    shares\n",
       "0    AAPL      175.429993       0.0\n",
       "1    ABBV      137.559998       0.0\n",
       "2     ABT      102.870003       0.0\n",
       "3     ACN      303.600006       0.0\n",
       "4    ADBE      415.390015       0.0\n",
       "5     AMD      127.029999       0.0\n",
       "6    AMZN      120.110001       0.0\n",
       "7    ASML      735.929993       0.0\n",
       "8    AVGO      812.729980       0.0\n",
       "9     AZN       72.519997       0.0\n",
       "10    BAC       28.309999       0.0\n",
       "11    BHP       56.669998       0.0\n",
       "12   COST      507.260010       0.0\n",
       "13    CRM      215.440002       0.0\n",
       "14   CSCO       49.860001       0.0\n",
       "15    CVX      154.080002       0.0\n",
       "16    DHR      232.210007       0.0\n",
       "17    DIS       88.290001       0.0\n",
       "18    FMX       98.379997       0.0\n",
       "19   GOOG      125.430000       0.0\n",
       "20     HD      292.829987       0.0\n",
       "21   HSBC       37.820000       0.0\n",
       "22    JNJ      154.350006       0.0\n",
       "23    JPM      136.940002       0.0\n",
       "24     KO       60.259998       0.0\n",
       "25    LIN      356.209991       0.0\n",
       "26    LLY      425.790009       0.0\n",
       "27     MA      374.369995       0.0\n",
       "28    MCD      286.040009       0.0\n",
       "29    MRK      111.070000       0.0\n",
       "30   MSFT      332.890015       0.0\n",
       "31    NEE       73.919998       0.0\n",
       "32   NFLX      378.880005       0.0\n",
       "33    NKE      107.510002  0.905996\n",
       "34   NVDA      389.459991       0.0\n",
       "35    NVO      162.970001       0.0\n",
       "36    NVS       97.860001       0.0\n",
       "37   ORCL      104.080002       0.0\n",
       "38    PEP      183.580002       0.0\n",
       "39    PFE       37.599998       0.0\n",
       "40     PG      145.399994       0.0\n",
       "41    SAP      131.410004       0.0\n",
       "42     TM      140.080002       0.0\n",
       "43    TMO      522.020020       0.0\n",
       "44   TMUS      135.149994       0.0\n",
       "45   TSLA      193.169998       0.0\n",
       "46    TSM      103.209999       0.0\n",
       "47    TXN      176.289993       0.0\n",
       "48    UNH      481.519989       0.0\n",
       "49    UPS      171.570007       0.0\n",
       "50      V      225.009995       0.0\n",
       "51     VZ       35.000000   0.18643\n",
       "52    WFC       41.230000       0.0\n",
       "53    WMT      146.419998       0.0\n",
       "54    XOM      104.970001       0.0"
      ]
     },
     "execution_count": 393,
     "metadata": {},
     "output_type": "execute_result"
    }
   ],
   "source": [
    "portfolio"
   ]
  },
  {
   "cell_type": "code",
   "execution_count": 397,
   "id": "c8bf8773-03fb-4334-a066-6f4a522692bc",
   "metadata": {
    "tags": []
   },
   "outputs": [
    {
     "data": {
      "text/plain": [
       "Timestamp('2023-05-18 00:00:00')"
      ]
     },
     "execution_count": 397,
     "metadata": {},
     "output_type": "execute_result"
    }
   ],
   "source": [
    "result.maturity_date.max()"
   ]
  },
  {
   "cell_type": "code",
   "execution_count": 151,
   "id": "d6941f58-02ba-4627-a3c5-fd2aacc15390",
   "metadata": {},
   "outputs": [],
   "source": [
    "def maximize_portfolio_return(tickers, stock_log_return, buy_date, price_column, log_return_column=\"log_return\", budget=1.0):\n",
    "    # Filter stock_log_return based on buy_date\n",
    "    tmp = stock_log_return[stock_log_return['date'] == buy_date].copy()\n",
    "\n",
    "    # Create a DataFrame for ticker shares\n",
    "    ticker_shares = pd.DataFrame({'ticker': tickers})\n",
    "\n",
    "    # Merge ticker_shares with filtered stock_log_return\n",
    "    tmp = tmp.merge(ticker_shares, on='ticker', how='left')\n",
    "\n",
    "    # Calculate value and budget for each date\n",
    "    tmp['value'] = budget * tmp[price_column]\n",
    "    tmp['budget'] = tmp['value'].sum()\n",
    "\n",
    "    # Calculate the weight for each row\n",
    "    tmp['weight'] = tmp['value'] / tmp['budget']\n",
    "\n",
    "    # Calculate the expected log return\n",
    "    expected_log_return = np.sum(tmp['weight'] * tmp[log_return_column])\n",
    "\n",
    "    # Calculate the covariance matrix\n",
    "    cov_matrix = np.cov(tmp[log_return_column], rowvar=False)\n",
    "\n",
    "    # Define the objective function to maximize portfolio return\n",
    "    def objective(weight):\n",
    "        portfolio_return = np.sum(weight * tmp[log_return_column])\n",
    "        return -portfolio_return\n",
    "\n",
    "    # Define the constraint function to ensure the sum of weights is 1 and weights are non-negative\n",
    "    def constraint(weight):\n",
    "        return np.concatenate((np.sum(weight) - 1.0, -weight))\n",
    "\n",
    "    # Set the bounds for each weight (0 <= weight <= 1)\n",
    "    bounds = [(0, None)] * len(tickers)\n",
    "\n",
    "    # Set the initial guess for weights (equal allocation)\n",
    "    init_guess = [1 / len(tickers)] * len(tickers)\n",
    "\n",
    "    # Define the optimization problem\n",
    "    opt_problem = {'type': 'eq', 'fun': constraint}\n",
    "    opt_result = minimize(objective, init_guess, method='SLSQP', bounds=bounds, constraints=opt_problem)\n",
    "\n",
    "    # Retrieve the optimal weights\n",
    "    optimal_weights = opt_result.x\n",
    "\n",
    "    # Calculate the portfolio return with optimal weights\n",
    "    portfolio_return = np.sum(optimal_weights * tmp[log_return_column])\n",
    "\n",
    "    return optimal_weights, portfolio_return"
   ]
  },
  {
   "cell_type": "code",
   "execution_count": 141,
   "id": "5056a3c5-391c-4597-bddb-84b3af63c8d6",
   "metadata": {},
   "outputs": [],
   "source": [
    "res,expected_return=maximize_portfolio_return(tickers=tickers, stock_log_return=result[result.ticker.isin(tickers)], buy_date=\"2023-03-01\", price_column=\"Close_shift_-1\", log_return_column=\"pred_step_0\", budget=1.0)"
   ]
  },
  {
   "cell_type": "code",
   "execution_count": 142,
   "id": "015f68fd-525d-40f4-8693-8130afce0533",
   "metadata": {},
   "outputs": [
    {
     "data": {
      "text/plain": [
       "0.01582266522851775"
      ]
     },
     "execution_count": 142,
     "metadata": {},
     "output_type": "execute_result"
    }
   ],
   "source": [
    "expected_return"
   ]
  },
  {
   "cell_type": "code",
   "execution_count": 143,
   "id": "68b58d1e-65fd-48b0-9269-e7b178f434bc",
   "metadata": {},
   "outputs": [
    {
     "data": {
      "text/plain": [
       "0.007019564560666403"
      ]
     },
     "execution_count": 143,
     "metadata": {},
     "output_type": "execute_result"
    }
   ],
   "source": [
    "portfolio_buy_date_return(tickers=tickers,shares=res,stock_log_return=result,buy_date=\"2023-03-01\",price_column='Close',log_return_column=\"log_return\")"
   ]
  },
  {
   "cell_type": "code",
   "execution_count": null,
   "id": "f6bdc98d-81c2-4b02-a115-88614b0d0bb4",
   "metadata": {},
   "outputs": [],
   "source": []
  }
 ],
 "metadata": {
  "kernelspec": {
   "display_name": "Python 3 (ipykernel)",
   "language": "python",
   "name": "python3"
  },
  "language_info": {
   "codemirror_mode": {
    "name": "ipython",
    "version": 3
   },
   "file_extension": ".py",
   "mimetype": "text/x-python",
   "name": "python",
   "nbconvert_exporter": "python",
   "pygments_lexer": "ipython3",
   "version": "3.9.0"
  }
 },
 "nbformat": 4,
 "nbformat_minor": 5
}
